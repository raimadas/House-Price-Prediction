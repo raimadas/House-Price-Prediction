{
 "cells": [
  {
   "cell_type": "markdown",
   "id": "30ab1f54",
   "metadata": {},
   "source": [
    "# Bussiness Problem- Predict the Sale Price of House \n",
    "Using Linear Regression- Supervised Machine Learning Algorithm"
   ]
  },
  {
   "cell_type": "code",
   "execution_count": 1,
   "id": "33bc4f59",
   "metadata": {},
   "outputs": [],
   "source": [
    "# Load Libraries\n",
    "import numpy as np\n",
    "import pandas as pd\n",
    "import matplotlib.pyplot as plt\n",
    "import seaborn as sns"
   ]
  },
  {
   "cell_type": "code",
   "execution_count": 2,
   "id": "51d6bf81",
   "metadata": {},
   "outputs": [],
   "source": [
    "# Read dataset. Here the data is already preprocessed. So, everything is in numerical form.\n",
    "data = pd.read_csv('Transformed_Housing_Data2.csv')"
   ]
  },
  {
   "cell_type": "code",
   "execution_count": 3,
   "id": "654203a4",
   "metadata": {},
   "outputs": [
    {
     "data": {
      "text/html": [
       "<div>\n",
       "<style scoped>\n",
       "    .dataframe tbody tr th:only-of-type {\n",
       "        vertical-align: middle;\n",
       "    }\n",
       "\n",
       "    .dataframe tbody tr th {\n",
       "        vertical-align: top;\n",
       "    }\n",
       "\n",
       "    .dataframe thead th {\n",
       "        text-align: right;\n",
       "    }\n",
       "</style>\n",
       "<table border=\"1\" class=\"dataframe\">\n",
       "  <thead>\n",
       "    <tr style=\"text-align: right;\">\n",
       "      <th></th>\n",
       "      <th>Sale_Price</th>\n",
       "      <th>No of Bedrooms</th>\n",
       "      <th>No of Bathrooms</th>\n",
       "      <th>Flat Area (in Sqft)</th>\n",
       "      <th>Lot Area (in Sqft)</th>\n",
       "      <th>No of Floors</th>\n",
       "      <th>No of Times Visited</th>\n",
       "      <th>Overall Grade</th>\n",
       "      <th>Area of the House from Basement (in Sqft)</th>\n",
       "      <th>Basement Area (in Sqft)</th>\n",
       "      <th>...</th>\n",
       "      <th>Waterfront_View_Yes</th>\n",
       "      <th>Zipcode_Group_Zipcode_Group_1</th>\n",
       "      <th>Zipcode_Group_Zipcode_Group_2</th>\n",
       "      <th>Zipcode_Group_Zipcode_Group_3</th>\n",
       "      <th>Zipcode_Group_Zipcode_Group_4</th>\n",
       "      <th>Zipcode_Group_Zipcode_Group_5</th>\n",
       "      <th>Zipcode_Group_Zipcode_Group_6</th>\n",
       "      <th>Zipcode_Group_Zipcode_Group_7</th>\n",
       "      <th>Zipcode_Group_Zipcode_Group_8</th>\n",
       "      <th>Zipcode_Group_Zipcode_Group_9</th>\n",
       "    </tr>\n",
       "  </thead>\n",
       "  <tbody>\n",
       "    <tr>\n",
       "      <th>0</th>\n",
       "      <td>221900.0</td>\n",
       "      <td>3</td>\n",
       "      <td>1.00</td>\n",
       "      <td>1180.0</td>\n",
       "      <td>5650.0</td>\n",
       "      <td>1.0</td>\n",
       "      <td>0</td>\n",
       "      <td>7</td>\n",
       "      <td>1180.0</td>\n",
       "      <td>0</td>\n",
       "      <td>...</td>\n",
       "      <td>0</td>\n",
       "      <td>0</td>\n",
       "      <td>0</td>\n",
       "      <td>0</td>\n",
       "      <td>0</td>\n",
       "      <td>0</td>\n",
       "      <td>0</td>\n",
       "      <td>0</td>\n",
       "      <td>0</td>\n",
       "      <td>0</td>\n",
       "    </tr>\n",
       "    <tr>\n",
       "      <th>1</th>\n",
       "      <td>538000.0</td>\n",
       "      <td>3</td>\n",
       "      <td>2.25</td>\n",
       "      <td>2570.0</td>\n",
       "      <td>7242.0</td>\n",
       "      <td>2.0</td>\n",
       "      <td>0</td>\n",
       "      <td>7</td>\n",
       "      <td>2170.0</td>\n",
       "      <td>400</td>\n",
       "      <td>...</td>\n",
       "      <td>0</td>\n",
       "      <td>0</td>\n",
       "      <td>1</td>\n",
       "      <td>0</td>\n",
       "      <td>0</td>\n",
       "      <td>0</td>\n",
       "      <td>0</td>\n",
       "      <td>0</td>\n",
       "      <td>0</td>\n",
       "      <td>0</td>\n",
       "    </tr>\n",
       "    <tr>\n",
       "      <th>2</th>\n",
       "      <td>180000.0</td>\n",
       "      <td>2</td>\n",
       "      <td>1.00</td>\n",
       "      <td>770.0</td>\n",
       "      <td>10000.0</td>\n",
       "      <td>1.0</td>\n",
       "      <td>0</td>\n",
       "      <td>6</td>\n",
       "      <td>770.0</td>\n",
       "      <td>0</td>\n",
       "      <td>...</td>\n",
       "      <td>0</td>\n",
       "      <td>0</td>\n",
       "      <td>1</td>\n",
       "      <td>0</td>\n",
       "      <td>0</td>\n",
       "      <td>0</td>\n",
       "      <td>0</td>\n",
       "      <td>0</td>\n",
       "      <td>0</td>\n",
       "      <td>0</td>\n",
       "    </tr>\n",
       "    <tr>\n",
       "      <th>3</th>\n",
       "      <td>604000.0</td>\n",
       "      <td>4</td>\n",
       "      <td>3.00</td>\n",
       "      <td>1960.0</td>\n",
       "      <td>5000.0</td>\n",
       "      <td>1.0</td>\n",
       "      <td>0</td>\n",
       "      <td>7</td>\n",
       "      <td>1050.0</td>\n",
       "      <td>910</td>\n",
       "      <td>...</td>\n",
       "      <td>0</td>\n",
       "      <td>0</td>\n",
       "      <td>0</td>\n",
       "      <td>1</td>\n",
       "      <td>0</td>\n",
       "      <td>0</td>\n",
       "      <td>0</td>\n",
       "      <td>0</td>\n",
       "      <td>0</td>\n",
       "      <td>0</td>\n",
       "    </tr>\n",
       "    <tr>\n",
       "      <th>4</th>\n",
       "      <td>510000.0</td>\n",
       "      <td>3</td>\n",
       "      <td>2.00</td>\n",
       "      <td>1680.0</td>\n",
       "      <td>8080.0</td>\n",
       "      <td>1.0</td>\n",
       "      <td>0</td>\n",
       "      <td>8</td>\n",
       "      <td>1680.0</td>\n",
       "      <td>0</td>\n",
       "      <td>...</td>\n",
       "      <td>0</td>\n",
       "      <td>0</td>\n",
       "      <td>0</td>\n",
       "      <td>0</td>\n",
       "      <td>1</td>\n",
       "      <td>0</td>\n",
       "      <td>0</td>\n",
       "      <td>0</td>\n",
       "      <td>0</td>\n",
       "      <td>0</td>\n",
       "    </tr>\n",
       "  </tbody>\n",
       "</table>\n",
       "<p>5 rows × 31 columns</p>\n",
       "</div>"
      ],
      "text/plain": [
       "   Sale_Price  No of Bedrooms  No of Bathrooms  Flat Area (in Sqft)  \\\n",
       "0    221900.0               3             1.00               1180.0   \n",
       "1    538000.0               3             2.25               2570.0   \n",
       "2    180000.0               2             1.00                770.0   \n",
       "3    604000.0               4             3.00               1960.0   \n",
       "4    510000.0               3             2.00               1680.0   \n",
       "\n",
       "   Lot Area (in Sqft)  No of Floors  No of Times Visited  Overall Grade  \\\n",
       "0              5650.0           1.0                    0              7   \n",
       "1              7242.0           2.0                    0              7   \n",
       "2             10000.0           1.0                    0              6   \n",
       "3              5000.0           1.0                    0              7   \n",
       "4              8080.0           1.0                    0              8   \n",
       "\n",
       "   Area of the House from Basement (in Sqft)  Basement Area (in Sqft)  ...  \\\n",
       "0                                     1180.0                        0  ...   \n",
       "1                                     2170.0                      400  ...   \n",
       "2                                      770.0                        0  ...   \n",
       "3                                     1050.0                      910  ...   \n",
       "4                                     1680.0                        0  ...   \n",
       "\n",
       "   Waterfront_View_Yes  Zipcode_Group_Zipcode_Group_1  \\\n",
       "0                    0                              0   \n",
       "1                    0                              0   \n",
       "2                    0                              0   \n",
       "3                    0                              0   \n",
       "4                    0                              0   \n",
       "\n",
       "   Zipcode_Group_Zipcode_Group_2  Zipcode_Group_Zipcode_Group_3  \\\n",
       "0                              0                              0   \n",
       "1                              1                              0   \n",
       "2                              1                              0   \n",
       "3                              0                              1   \n",
       "4                              0                              0   \n",
       "\n",
       "   Zipcode_Group_Zipcode_Group_4  Zipcode_Group_Zipcode_Group_5  \\\n",
       "0                              0                              0   \n",
       "1                              0                              0   \n",
       "2                              0                              0   \n",
       "3                              0                              0   \n",
       "4                              1                              0   \n",
       "\n",
       "   Zipcode_Group_Zipcode_Group_6  Zipcode_Group_Zipcode_Group_7  \\\n",
       "0                              0                              0   \n",
       "1                              0                              0   \n",
       "2                              0                              0   \n",
       "3                              0                              0   \n",
       "4                              0                              0   \n",
       "\n",
       "   Zipcode_Group_Zipcode_Group_8  Zipcode_Group_Zipcode_Group_9  \n",
       "0                              0                              0  \n",
       "1                              0                              0  \n",
       "2                              0                              0  \n",
       "3                              0                              0  \n",
       "4                              0                              0  \n",
       "\n",
       "[5 rows x 31 columns]"
      ]
     },
     "execution_count": 3,
     "metadata": {},
     "output_type": "execute_result"
    }
   ],
   "source": [
    "data.head()"
   ]
  },
  {
   "cell_type": "code",
   "execution_count": 5,
   "id": "3ca17fef",
   "metadata": {},
   "outputs": [
    {
     "name": "stdout",
     "output_type": "stream",
     "text": [
      "Shape of x=  (21609, 30)\n",
      "Shape of y=  (21609,)\n"
     ]
    }
   ],
   "source": [
    "# Split the data into x and y\n",
    "x=data.drop('Sale_Price', axis=1)  # Every feature will be present in x except Sale Price\n",
    "y=data['Sale_Price']               # y is the dependent variable\n",
    "\n",
    "print(\"Shape of x= \",x.shape)\n",
    "print(\"Shape of y= \",y.shape)"
   ]
  },
  {
   "cell_type": "code",
   "execution_count": 6,
   "id": "6601708e",
   "metadata": {},
   "outputs": [
    {
     "name": "stdout",
     "output_type": "stream",
     "text": [
      "Shape of x_train=  (17287, 30)\n",
      "Shape of y_train=  (17287,)\n",
      "Shape of x_test=  (4322, 30)\n",
      "Shape of y_test=  (4322,)\n"
     ]
    }
   ],
   "source": [
    "# Here we split in train and test and the test percentage is 20%\n",
    "from sklearn.model_selection import train_test_split\n",
    "x_train , x_test , y_train , y_test = train_test_split(x , y , test_size = 0.20,random_state =2)\n",
    "\n",
    "print(\"Shape of x_train= \",x_train.shape)\n",
    "print(\"Shape of y_train= \",y_train.shape)\n",
    "print(\"Shape of x_test= \",x_test.shape)\n",
    "print(\"Shape of y_test= \",y_test.shape)"
   ]
  },
  {
   "cell_type": "code",
   "execution_count": 7,
   "id": "86c30410",
   "metadata": {},
   "outputs": [],
   "source": [
    "#Feature scaling\n",
    "from sklearn.preprocessing import StandardScaler\n",
    "sc = StandardScaler()\n",
    "sc.fit(x_train)\n",
    "x_train=sc.transform(x_train)\n",
    "x_test=sc.transform(x_test)"
   ]
  },
  {
   "cell_type": "code",
   "execution_count": 9,
   "id": "38e30238",
   "metadata": {},
   "outputs": [
    {
     "data": {
      "text/plain": [
       "LinearRegression()"
      ]
     },
     "execution_count": 9,
     "metadata": {},
     "output_type": "execute_result"
    }
   ],
   "source": [
    "# Linear Regression ML Model Training\n",
    "from sklearn.linear_model import LinearRegression\n",
    "lr = LinearRegression()                           # Here, lr is the object of Linear regression \n",
    "\n",
    "lr.fit(x_train,y_train)"
   ]
  },
  {
   "cell_type": "code",
   "execution_count": 11,
   "id": "a8c49264",
   "metadata": {},
   "outputs": [
    {
     "data": {
      "text/plain": [
       "array([ -5369.84434613,  11296.92766554,  99009.53967833,  12357.18094644,\n",
       "         2307.43064784,  26765.12514037,  59266.22209073,  -8548.61212834,\n",
       "       -19190.96386439,  27588.90227405,  21663.73597741, -23298.70747776,\n",
       "        18992.5799921 ,  -1692.79684653, -10854.48798666,  32627.79734713,\n",
       "        33402.86413715,  35779.07026657,   4728.22241415,  14593.11393793,\n",
       "         8984.02861075,  12801.49772744,  33802.64179801,  61407.55774243,\n",
       "        81442.84382197,  51351.55163861,  72871.40571863,  40707.39606058,\n",
       "        68109.52161162,  19104.1713556 ])"
      ]
     },
     "execution_count": 11,
     "metadata": {},
     "output_type": "execute_result"
    }
   ],
   "source": [
    "lr.coef_"
   ]
  },
  {
   "cell_type": "code",
   "execution_count": 12,
   "id": "c57f4b7e",
   "metadata": {},
   "outputs": [
    {
     "data": {
      "text/plain": [
       "511518.794180599"
      ]
     },
     "execution_count": 12,
     "metadata": {},
     "output_type": "execute_result"
    }
   ],
   "source": [
    "lr.intercept_"
   ]
  },
  {
   "cell_type": "code",
   "execution_count": 13,
   "id": "7b08b714",
   "metadata": {},
   "outputs": [
    {
     "data": {
      "text/plain": [
       "array([ 0.67075316,  0.50022204,  0.14122811, -0.19272645,  0.9317619 ,\n",
       "       -0.30463735,  0.33911938,  0.50705076, -0.65653352, -0.74864987,\n",
       "       -1.00511819,  0.21658224, -0.02702678, -0.20930511, -0.16896802,\n",
       "       -0.29419269,  0.7340373 , -0.59349572, -0.09292619, -0.21132431,\n",
       "       -0.08805279, -0.35087876, -0.48163242, -0.41798062, -0.48190583,\n",
       "       -0.21296207, -0.2871709 , -0.11301191, -0.16863317, -0.04439225])"
      ]
     },
     "execution_count": 13,
     "metadata": {},
     "output_type": "execute_result"
    }
   ],
   "source": [
    "# Predict the value of Home and Test\n",
    "x_test[0, :]"
   ]
  },
  {
   "cell_type": "code",
   "execution_count": 14,
   "id": "d0fd13a4",
   "metadata": {},
   "outputs": [
    {
     "data": {
      "text/plain": [
       "array([356616.17424022])"
      ]
     },
     "execution_count": 14,
     "metadata": {},
     "output_type": "execute_result"
    }
   ],
   "source": [
    "lr.predict([x_test[0, :]])"
   ]
  },
  {
   "cell_type": "code",
   "execution_count": 15,
   "id": "969187ae",
   "metadata": {},
   "outputs": [
    {
     "data": {
      "text/plain": [
       "array([356616.17424022, 466455.66208663, 342991.27126532, ...,\n",
       "       404018.40035346, 523491.22185987, 854546.82624282])"
      ]
     },
     "execution_count": 15,
     "metadata": {},
     "output_type": "execute_result"
    }
   ],
   "source": [
    "lr.predict(x_test)"
   ]
  },
  {
   "cell_type": "code",
   "execution_count": 16,
   "id": "faf28aa7",
   "metadata": {},
   "outputs": [
    {
     "data": {
      "text/plain": [
       "12179    382500.0\n",
       "13559    500000.0\n",
       "8370     435000.0\n",
       "9208     350000.0\n",
       "11439    827500.0\n",
       "           ...   \n",
       "19141    635500.0\n",
       "13519    585000.0\n",
       "20501    355000.0\n",
       "1080     515000.0\n",
       "15818    784000.0\n",
       "Name: Sale_Price, Length: 4322, dtype: float64"
      ]
     },
     "execution_count": 16,
     "metadata": {},
     "output_type": "execute_result"
    }
   ],
   "source": [
    "y_test"
   ]
  },
  {
   "cell_type": "code",
   "execution_count": 18,
   "id": "10dc155a",
   "metadata": {},
   "outputs": [
    {
     "data": {
      "text/plain": [
       "84.43695273016894"
      ]
     },
     "execution_count": 18,
     "metadata": {},
     "output_type": "execute_result"
    }
   ],
   "source": [
    "lr.score(x_test, y_test)*100"
   ]
  }
 ],
 "metadata": {
  "kernelspec": {
   "display_name": "Python 3 (ipykernel)",
   "language": "python",
   "name": "python3"
  },
  "language_info": {
   "codemirror_mode": {
    "name": "ipython",
    "version": 3
   },
   "file_extension": ".py",
   "mimetype": "text/x-python",
   "name": "python",
   "nbconvert_exporter": "python",
   "pygments_lexer": "ipython3",
   "version": "3.9.12"
  }
 },
 "nbformat": 4,
 "nbformat_minor": 5
}
